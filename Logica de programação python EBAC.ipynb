{
 "cells": [
  {
   "cell_type": "markdown",
   "metadata": {},
   "source": [
    "1. Utilize o comando ‘input’ para receber ao menos 2 números de entrada do usuário;\n",
    "\n",
    "2. Converta os valores recebidos pelo usuário para número inteiro (int) ou ponto flutuante (float);\n",
    "\n",
    "3. Implemente ao menos 4 operações matemáticas em seu código;\n",
    "\n",
    "4. Adicione um laço de repetição ou uma condicional. Por exemplo: você pode permitir que o usuário escolha qual operação realizar ou criar um loop que permita ao usuário realizar várias operações consecutivas;\n",
    "\n",
    "5. Utilize o comando ‘print’ para exibir o resultado da operação matemática."
   ]
  },
  {
   "cell_type": "code",
   "execution_count": 13,
   "metadata": {},
   "outputs": [
    {
     "name": "stdout",
     "output_type": "stream",
     "text": [
      "   Operações disponiveis:\n",
      "    (+) soma \n",
      "    (-): subtração \n",
      "    (*): multiplicação \n",
      "    (/): divisão\n",
      "    (#): novos números\n",
      "    (!): sair da calculadora\n",
      "a multiplicação é: 40\n",
      "   Operações disponiveis:\n",
      "    (+) soma \n",
      "    (-): subtração \n",
      "    (*): multiplicação \n",
      "    (/): divisão\n",
      "    (#): novos números\n",
      "    (!): sair da calculadora\n",
      "a multiplicação é: 40\n",
      "   Operações disponiveis:\n",
      "    (+) soma \n",
      "    (-): subtração \n",
      "    (*): multiplicação \n",
      "    (/): divisão\n",
      "    (#): novos números\n",
      "    (!): sair da calculadora\n",
      "\n",
      "Fim da calculadora, Obrigado\n"
     ]
    }
   ],
   "source": [
    "num1 = int (input('Digite o primeiro numero: '))\n",
    "num2 = int (input('Digite o segundo numero: '))\n",
    "op = 0\n",
    "while op != '!':\n",
    "    print('''   Operações disponiveis:\n",
    "    (+) soma \n",
    "    (-): subtração \n",
    "    (*): multiplicação \n",
    "    (/): divisão\n",
    "    (#): novos números\n",
    "    (!): sair da calculadora''')\n",
    "    op = input('Digite a opção deseja usar: ')\n",
    "    if op == '+':\n",
    "        print('a soma é:', num1+num2)\n",
    "    elif op == '-':\n",
    "        print('a subtração é:', num1-num2)\n",
    "    elif op == '*':\n",
    "        print('a multiplicação é:', num1*num2)\n",
    "    elif op == '/':\n",
    "        print('a divisão é:', num1/num2)\n",
    "    elif op == '#':\n",
    "        print('Digite os novos números: ')\n",
    "        num1 = int (input('Digite o primeiro numero: '))\n",
    "        num2 = int (input('Digite o segundo numero: '))\n",
    "    elif op == '!':\n",
    "        print()\n",
    "    else :\n",
    "        print('Não escolheu uma operação valida')\n",
    "print('Fim da calculadora, Obrigado')\n",
    "\n",
    "\n",
    "\n",
    "\n",
    "\n"
   ]
  }
 ],
 "metadata": {
  "kernelspec": {
   "display_name": ".venv",
   "language": "python",
   "name": "python3"
  },
  "language_info": {
   "codemirror_mode": {
    "name": "ipython",
    "version": 3
   },
   "file_extension": ".py",
   "mimetype": "text/x-python",
   "name": "python",
   "nbconvert_exporter": "python",
   "pygments_lexer": "ipython3",
   "version": "3.12.7"
  }
 },
 "nbformat": 4,
 "nbformat_minor": 2
}
